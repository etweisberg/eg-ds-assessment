{
 "cells": [
  {
   "cell_type": "markdown",
   "id": "47f22de4",
   "metadata": {},
   "source": [
    "# Imports and Setup"
   ]
  },
  {
   "cell_type": "code",
   "execution_count": 1,
   "id": "da9565a9",
   "metadata": {},
   "outputs": [],
   "source": [
    "import pandas as pd\n",
    "import numpy as np"
   ]
  },
  {
   "cell_type": "code",
   "execution_count": 2,
   "id": "bbff9fd7",
   "metadata": {},
   "outputs": [],
   "source": [
    "df = pd.read_csv('data/starcraft_player_data.csv')"
   ]
  },
  {
   "cell_type": "code",
   "execution_count": 3,
   "id": "ae34f648",
   "metadata": {},
   "outputs": [
    {
     "data": {
      "text/html": [
       "<div>\n",
       "<style scoped>\n",
       "    .dataframe tbody tr th:only-of-type {\n",
       "        vertical-align: middle;\n",
       "    }\n",
       "\n",
       "    .dataframe tbody tr th {\n",
       "        vertical-align: top;\n",
       "    }\n",
       "\n",
       "    .dataframe thead th {\n",
       "        text-align: right;\n",
       "    }\n",
       "</style>\n",
       "<table border=\"1\" class=\"dataframe\">\n",
       "  <thead>\n",
       "    <tr style=\"text-align: right;\">\n",
       "      <th></th>\n",
       "      <th>GameID</th>\n",
       "      <th>LeagueIndex</th>\n",
       "      <th>Age</th>\n",
       "      <th>HoursPerWeek</th>\n",
       "      <th>TotalHours</th>\n",
       "      <th>APM</th>\n",
       "      <th>SelectByHotkeys</th>\n",
       "      <th>AssignToHotkeys</th>\n",
       "      <th>UniqueHotkeys</th>\n",
       "      <th>MinimapAttacks</th>\n",
       "      <th>MinimapRightClicks</th>\n",
       "      <th>NumberOfPACs</th>\n",
       "      <th>GapBetweenPACs</th>\n",
       "      <th>ActionLatency</th>\n",
       "      <th>ActionsInPAC</th>\n",
       "      <th>TotalMapExplored</th>\n",
       "      <th>WorkersMade</th>\n",
       "      <th>UniqueUnitsMade</th>\n",
       "      <th>ComplexUnitsMade</th>\n",
       "      <th>ComplexAbilitiesUsed</th>\n",
       "    </tr>\n",
       "  </thead>\n",
       "  <tbody>\n",
       "    <tr>\n",
       "      <th>0</th>\n",
       "      <td>52</td>\n",
       "      <td>5</td>\n",
       "      <td>27</td>\n",
       "      <td>10</td>\n",
       "      <td>3000</td>\n",
       "      <td>143.7180</td>\n",
       "      <td>0.003515</td>\n",
       "      <td>0.000220</td>\n",
       "      <td>7</td>\n",
       "      <td>0.000110</td>\n",
       "      <td>0.000392</td>\n",
       "      <td>0.004849</td>\n",
       "      <td>32.6677</td>\n",
       "      <td>40.8673</td>\n",
       "      <td>4.7508</td>\n",
       "      <td>28</td>\n",
       "      <td>0.001397</td>\n",
       "      <td>6</td>\n",
       "      <td>0.000000</td>\n",
       "      <td>0.000000</td>\n",
       "    </tr>\n",
       "    <tr>\n",
       "      <th>1</th>\n",
       "      <td>55</td>\n",
       "      <td>5</td>\n",
       "      <td>23</td>\n",
       "      <td>10</td>\n",
       "      <td>5000</td>\n",
       "      <td>129.2322</td>\n",
       "      <td>0.003304</td>\n",
       "      <td>0.000259</td>\n",
       "      <td>4</td>\n",
       "      <td>0.000294</td>\n",
       "      <td>0.000432</td>\n",
       "      <td>0.004307</td>\n",
       "      <td>32.9194</td>\n",
       "      <td>42.3454</td>\n",
       "      <td>4.8434</td>\n",
       "      <td>22</td>\n",
       "      <td>0.001193</td>\n",
       "      <td>5</td>\n",
       "      <td>0.000000</td>\n",
       "      <td>0.000208</td>\n",
       "    </tr>\n",
       "    <tr>\n",
       "      <th>2</th>\n",
       "      <td>56</td>\n",
       "      <td>4</td>\n",
       "      <td>30</td>\n",
       "      <td>10</td>\n",
       "      <td>200</td>\n",
       "      <td>69.9612</td>\n",
       "      <td>0.001101</td>\n",
       "      <td>0.000336</td>\n",
       "      <td>4</td>\n",
       "      <td>0.000294</td>\n",
       "      <td>0.000461</td>\n",
       "      <td>0.002926</td>\n",
       "      <td>44.6475</td>\n",
       "      <td>75.3548</td>\n",
       "      <td>4.0430</td>\n",
       "      <td>22</td>\n",
       "      <td>0.000745</td>\n",
       "      <td>6</td>\n",
       "      <td>0.000000</td>\n",
       "      <td>0.000189</td>\n",
       "    </tr>\n",
       "    <tr>\n",
       "      <th>3</th>\n",
       "      <td>57</td>\n",
       "      <td>3</td>\n",
       "      <td>19</td>\n",
       "      <td>20</td>\n",
       "      <td>400</td>\n",
       "      <td>107.6016</td>\n",
       "      <td>0.001034</td>\n",
       "      <td>0.000213</td>\n",
       "      <td>1</td>\n",
       "      <td>0.000053</td>\n",
       "      <td>0.000543</td>\n",
       "      <td>0.003783</td>\n",
       "      <td>29.2203</td>\n",
       "      <td>53.7352</td>\n",
       "      <td>4.9155</td>\n",
       "      <td>19</td>\n",
       "      <td>0.000426</td>\n",
       "      <td>7</td>\n",
       "      <td>0.000000</td>\n",
       "      <td>0.000384</td>\n",
       "    </tr>\n",
       "    <tr>\n",
       "      <th>4</th>\n",
       "      <td>58</td>\n",
       "      <td>3</td>\n",
       "      <td>32</td>\n",
       "      <td>10</td>\n",
       "      <td>500</td>\n",
       "      <td>122.8908</td>\n",
       "      <td>0.001136</td>\n",
       "      <td>0.000327</td>\n",
       "      <td>2</td>\n",
       "      <td>0.000000</td>\n",
       "      <td>0.001329</td>\n",
       "      <td>0.002368</td>\n",
       "      <td>22.6885</td>\n",
       "      <td>62.0813</td>\n",
       "      <td>9.3740</td>\n",
       "      <td>15</td>\n",
       "      <td>0.001174</td>\n",
       "      <td>4</td>\n",
       "      <td>0.000000</td>\n",
       "      <td>0.000019</td>\n",
       "    </tr>\n",
       "    <tr>\n",
       "      <th>...</th>\n",
       "      <td>...</td>\n",
       "      <td>...</td>\n",
       "      <td>...</td>\n",
       "      <td>...</td>\n",
       "      <td>...</td>\n",
       "      <td>...</td>\n",
       "      <td>...</td>\n",
       "      <td>...</td>\n",
       "      <td>...</td>\n",
       "      <td>...</td>\n",
       "      <td>...</td>\n",
       "      <td>...</td>\n",
       "      <td>...</td>\n",
       "      <td>...</td>\n",
       "      <td>...</td>\n",
       "      <td>...</td>\n",
       "      <td>...</td>\n",
       "      <td>...</td>\n",
       "      <td>...</td>\n",
       "      <td>...</td>\n",
       "    </tr>\n",
       "    <tr>\n",
       "      <th>3390</th>\n",
       "      <td>10089</td>\n",
       "      <td>8</td>\n",
       "      <td>?</td>\n",
       "      <td>?</td>\n",
       "      <td>?</td>\n",
       "      <td>259.6296</td>\n",
       "      <td>0.020425</td>\n",
       "      <td>0.000743</td>\n",
       "      <td>9</td>\n",
       "      <td>0.000621</td>\n",
       "      <td>0.000146</td>\n",
       "      <td>0.004555</td>\n",
       "      <td>18.6059</td>\n",
       "      <td>42.8342</td>\n",
       "      <td>6.2754</td>\n",
       "      <td>46</td>\n",
       "      <td>0.000877</td>\n",
       "      <td>5</td>\n",
       "      <td>0.000000</td>\n",
       "      <td>0.000000</td>\n",
       "    </tr>\n",
       "    <tr>\n",
       "      <th>3391</th>\n",
       "      <td>10090</td>\n",
       "      <td>8</td>\n",
       "      <td>?</td>\n",
       "      <td>?</td>\n",
       "      <td>?</td>\n",
       "      <td>314.6700</td>\n",
       "      <td>0.028043</td>\n",
       "      <td>0.001157</td>\n",
       "      <td>10</td>\n",
       "      <td>0.000246</td>\n",
       "      <td>0.001083</td>\n",
       "      <td>0.004259</td>\n",
       "      <td>14.3023</td>\n",
       "      <td>36.1156</td>\n",
       "      <td>7.1965</td>\n",
       "      <td>16</td>\n",
       "      <td>0.000788</td>\n",
       "      <td>4</td>\n",
       "      <td>0.000000</td>\n",
       "      <td>0.000000</td>\n",
       "    </tr>\n",
       "    <tr>\n",
       "      <th>3392</th>\n",
       "      <td>10092</td>\n",
       "      <td>8</td>\n",
       "      <td>?</td>\n",
       "      <td>?</td>\n",
       "      <td>?</td>\n",
       "      <td>299.4282</td>\n",
       "      <td>0.028341</td>\n",
       "      <td>0.000860</td>\n",
       "      <td>7</td>\n",
       "      <td>0.000338</td>\n",
       "      <td>0.000169</td>\n",
       "      <td>0.004439</td>\n",
       "      <td>12.4028</td>\n",
       "      <td>39.5156</td>\n",
       "      <td>6.3979</td>\n",
       "      <td>19</td>\n",
       "      <td>0.001260</td>\n",
       "      <td>4</td>\n",
       "      <td>0.000000</td>\n",
       "      <td>0.000000</td>\n",
       "    </tr>\n",
       "    <tr>\n",
       "      <th>3393</th>\n",
       "      <td>10094</td>\n",
       "      <td>8</td>\n",
       "      <td>?</td>\n",
       "      <td>?</td>\n",
       "      <td>?</td>\n",
       "      <td>375.8664</td>\n",
       "      <td>0.036436</td>\n",
       "      <td>0.000594</td>\n",
       "      <td>5</td>\n",
       "      <td>0.000204</td>\n",
       "      <td>0.000780</td>\n",
       "      <td>0.004346</td>\n",
       "      <td>11.6910</td>\n",
       "      <td>34.8547</td>\n",
       "      <td>7.9615</td>\n",
       "      <td>15</td>\n",
       "      <td>0.000613</td>\n",
       "      <td>6</td>\n",
       "      <td>0.000000</td>\n",
       "      <td>0.000631</td>\n",
       "    </tr>\n",
       "    <tr>\n",
       "      <th>3394</th>\n",
       "      <td>10095</td>\n",
       "      <td>8</td>\n",
       "      <td>?</td>\n",
       "      <td>?</td>\n",
       "      <td>?</td>\n",
       "      <td>348.3576</td>\n",
       "      <td>0.029855</td>\n",
       "      <td>0.000811</td>\n",
       "      <td>4</td>\n",
       "      <td>0.000224</td>\n",
       "      <td>0.001315</td>\n",
       "      <td>0.005566</td>\n",
       "      <td>20.0537</td>\n",
       "      <td>33.5142</td>\n",
       "      <td>6.3719</td>\n",
       "      <td>27</td>\n",
       "      <td>0.001566</td>\n",
       "      <td>7</td>\n",
       "      <td>0.000457</td>\n",
       "      <td>0.000895</td>\n",
       "    </tr>\n",
       "  </tbody>\n",
       "</table>\n",
       "<p>3395 rows × 20 columns</p>\n",
       "</div>"
      ],
      "text/plain": [
       "      GameID  LeagueIndex Age HoursPerWeek TotalHours       APM  \\\n",
       "0         52            5  27           10       3000  143.7180   \n",
       "1         55            5  23           10       5000  129.2322   \n",
       "2         56            4  30           10        200   69.9612   \n",
       "3         57            3  19           20        400  107.6016   \n",
       "4         58            3  32           10        500  122.8908   \n",
       "...      ...          ...  ..          ...        ...       ...   \n",
       "3390   10089            8   ?            ?          ?  259.6296   \n",
       "3391   10090            8   ?            ?          ?  314.6700   \n",
       "3392   10092            8   ?            ?          ?  299.4282   \n",
       "3393   10094            8   ?            ?          ?  375.8664   \n",
       "3394   10095            8   ?            ?          ?  348.3576   \n",
       "\n",
       "      SelectByHotkeys  AssignToHotkeys  UniqueHotkeys  MinimapAttacks  \\\n",
       "0            0.003515         0.000220              7        0.000110   \n",
       "1            0.003304         0.000259              4        0.000294   \n",
       "2            0.001101         0.000336              4        0.000294   \n",
       "3            0.001034         0.000213              1        0.000053   \n",
       "4            0.001136         0.000327              2        0.000000   \n",
       "...               ...              ...            ...             ...   \n",
       "3390         0.020425         0.000743              9        0.000621   \n",
       "3391         0.028043         0.001157             10        0.000246   \n",
       "3392         0.028341         0.000860              7        0.000338   \n",
       "3393         0.036436         0.000594              5        0.000204   \n",
       "3394         0.029855         0.000811              4        0.000224   \n",
       "\n",
       "      MinimapRightClicks  NumberOfPACs  GapBetweenPACs  ActionLatency  \\\n",
       "0               0.000392      0.004849         32.6677        40.8673   \n",
       "1               0.000432      0.004307         32.9194        42.3454   \n",
       "2               0.000461      0.002926         44.6475        75.3548   \n",
       "3               0.000543      0.003783         29.2203        53.7352   \n",
       "4               0.001329      0.002368         22.6885        62.0813   \n",
       "...                  ...           ...             ...            ...   \n",
       "3390            0.000146      0.004555         18.6059        42.8342   \n",
       "3391            0.001083      0.004259         14.3023        36.1156   \n",
       "3392            0.000169      0.004439         12.4028        39.5156   \n",
       "3393            0.000780      0.004346         11.6910        34.8547   \n",
       "3394            0.001315      0.005566         20.0537        33.5142   \n",
       "\n",
       "      ActionsInPAC  TotalMapExplored  WorkersMade  UniqueUnitsMade  \\\n",
       "0           4.7508                28     0.001397                6   \n",
       "1           4.8434                22     0.001193                5   \n",
       "2           4.0430                22     0.000745                6   \n",
       "3           4.9155                19     0.000426                7   \n",
       "4           9.3740                15     0.001174                4   \n",
       "...            ...               ...          ...              ...   \n",
       "3390        6.2754                46     0.000877                5   \n",
       "3391        7.1965                16     0.000788                4   \n",
       "3392        6.3979                19     0.001260                4   \n",
       "3393        7.9615                15     0.000613                6   \n",
       "3394        6.3719                27     0.001566                7   \n",
       "\n",
       "      ComplexUnitsMade  ComplexAbilitiesUsed  \n",
       "0             0.000000              0.000000  \n",
       "1             0.000000              0.000208  \n",
       "2             0.000000              0.000189  \n",
       "3             0.000000              0.000384  \n",
       "4             0.000000              0.000019  \n",
       "...                ...                   ...  \n",
       "3390          0.000000              0.000000  \n",
       "3391          0.000000              0.000000  \n",
       "3392          0.000000              0.000000  \n",
       "3393          0.000000              0.000631  \n",
       "3394          0.000457              0.000895  \n",
       "\n",
       "[3395 rows x 20 columns]"
      ]
     },
     "execution_count": 3,
     "metadata": {},
     "output_type": "execute_result"
    }
   ],
   "source": [
    "df"
   ]
  },
  {
   "cell_type": "markdown",
   "id": "d3d19e89",
   "metadata": {},
   "source": [
    "# Cleaning Data"
   ]
  },
  {
   "cell_type": "code",
   "execution_count": 4,
   "id": "b4b93e2c",
   "metadata": {},
   "outputs": [
    {
     "data": {
      "text/html": [
       "<div>\n",
       "<style scoped>\n",
       "    .dataframe tbody tr th:only-of-type {\n",
       "        vertical-align: middle;\n",
       "    }\n",
       "\n",
       "    .dataframe tbody tr th {\n",
       "        vertical-align: top;\n",
       "    }\n",
       "\n",
       "    .dataframe thead th {\n",
       "        text-align: right;\n",
       "    }\n",
       "</style>\n",
       "<table border=\"1\" class=\"dataframe\">\n",
       "  <thead>\n",
       "    <tr style=\"text-align: right;\">\n",
       "      <th></th>\n",
       "      <th>GameID</th>\n",
       "      <th>LeagueIndex</th>\n",
       "      <th>Age</th>\n",
       "      <th>HoursPerWeek</th>\n",
       "      <th>TotalHours</th>\n",
       "      <th>APM</th>\n",
       "      <th>SelectByHotkeys</th>\n",
       "      <th>AssignToHotkeys</th>\n",
       "      <th>UniqueHotkeys</th>\n",
       "      <th>MinimapAttacks</th>\n",
       "      <th>MinimapRightClicks</th>\n",
       "      <th>NumberOfPACs</th>\n",
       "      <th>GapBetweenPACs</th>\n",
       "      <th>ActionLatency</th>\n",
       "      <th>ActionsInPAC</th>\n",
       "      <th>TotalMapExplored</th>\n",
       "      <th>WorkersMade</th>\n",
       "      <th>UniqueUnitsMade</th>\n",
       "      <th>ComplexUnitsMade</th>\n",
       "      <th>ComplexAbilitiesUsed</th>\n",
       "    </tr>\n",
       "  </thead>\n",
       "  <tbody>\n",
       "    <tr>\n",
       "      <th>0</th>\n",
       "      <td>52</td>\n",
       "      <td>5</td>\n",
       "      <td>27</td>\n",
       "      <td>10</td>\n",
       "      <td>3000</td>\n",
       "      <td>143.7180</td>\n",
       "      <td>0.003515</td>\n",
       "      <td>0.000220</td>\n",
       "      <td>7</td>\n",
       "      <td>0.000110</td>\n",
       "      <td>0.000392</td>\n",
       "      <td>0.004849</td>\n",
       "      <td>32.6677</td>\n",
       "      <td>40.8673</td>\n",
       "      <td>4.7508</td>\n",
       "      <td>28</td>\n",
       "      <td>0.001397</td>\n",
       "      <td>6</td>\n",
       "      <td>0.0</td>\n",
       "      <td>0.000000</td>\n",
       "    </tr>\n",
       "    <tr>\n",
       "      <th>1</th>\n",
       "      <td>55</td>\n",
       "      <td>5</td>\n",
       "      <td>23</td>\n",
       "      <td>10</td>\n",
       "      <td>5000</td>\n",
       "      <td>129.2322</td>\n",
       "      <td>0.003304</td>\n",
       "      <td>0.000259</td>\n",
       "      <td>4</td>\n",
       "      <td>0.000294</td>\n",
       "      <td>0.000432</td>\n",
       "      <td>0.004307</td>\n",
       "      <td>32.9194</td>\n",
       "      <td>42.3454</td>\n",
       "      <td>4.8434</td>\n",
       "      <td>22</td>\n",
       "      <td>0.001193</td>\n",
       "      <td>5</td>\n",
       "      <td>0.0</td>\n",
       "      <td>0.000208</td>\n",
       "    </tr>\n",
       "    <tr>\n",
       "      <th>2</th>\n",
       "      <td>56</td>\n",
       "      <td>4</td>\n",
       "      <td>30</td>\n",
       "      <td>10</td>\n",
       "      <td>200</td>\n",
       "      <td>69.9612</td>\n",
       "      <td>0.001101</td>\n",
       "      <td>0.000336</td>\n",
       "      <td>4</td>\n",
       "      <td>0.000294</td>\n",
       "      <td>0.000461</td>\n",
       "      <td>0.002926</td>\n",
       "      <td>44.6475</td>\n",
       "      <td>75.3548</td>\n",
       "      <td>4.0430</td>\n",
       "      <td>22</td>\n",
       "      <td>0.000745</td>\n",
       "      <td>6</td>\n",
       "      <td>0.0</td>\n",
       "      <td>0.000189</td>\n",
       "    </tr>\n",
       "    <tr>\n",
       "      <th>3</th>\n",
       "      <td>57</td>\n",
       "      <td>3</td>\n",
       "      <td>19</td>\n",
       "      <td>20</td>\n",
       "      <td>400</td>\n",
       "      <td>107.6016</td>\n",
       "      <td>0.001034</td>\n",
       "      <td>0.000213</td>\n",
       "      <td>1</td>\n",
       "      <td>0.000053</td>\n",
       "      <td>0.000543</td>\n",
       "      <td>0.003783</td>\n",
       "      <td>29.2203</td>\n",
       "      <td>53.7352</td>\n",
       "      <td>4.9155</td>\n",
       "      <td>19</td>\n",
       "      <td>0.000426</td>\n",
       "      <td>7</td>\n",
       "      <td>0.0</td>\n",
       "      <td>0.000384</td>\n",
       "    </tr>\n",
       "    <tr>\n",
       "      <th>4</th>\n",
       "      <td>58</td>\n",
       "      <td>3</td>\n",
       "      <td>32</td>\n",
       "      <td>10</td>\n",
       "      <td>500</td>\n",
       "      <td>122.8908</td>\n",
       "      <td>0.001136</td>\n",
       "      <td>0.000327</td>\n",
       "      <td>2</td>\n",
       "      <td>0.000000</td>\n",
       "      <td>0.001329</td>\n",
       "      <td>0.002368</td>\n",
       "      <td>22.6885</td>\n",
       "      <td>62.0813</td>\n",
       "      <td>9.3740</td>\n",
       "      <td>15</td>\n",
       "      <td>0.001174</td>\n",
       "      <td>4</td>\n",
       "      <td>0.0</td>\n",
       "      <td>0.000019</td>\n",
       "    </tr>\n",
       "    <tr>\n",
       "      <th>...</th>\n",
       "      <td>...</td>\n",
       "      <td>...</td>\n",
       "      <td>...</td>\n",
       "      <td>...</td>\n",
       "      <td>...</td>\n",
       "      <td>...</td>\n",
       "      <td>...</td>\n",
       "      <td>...</td>\n",
       "      <td>...</td>\n",
       "      <td>...</td>\n",
       "      <td>...</td>\n",
       "      <td>...</td>\n",
       "      <td>...</td>\n",
       "      <td>...</td>\n",
       "      <td>...</td>\n",
       "      <td>...</td>\n",
       "      <td>...</td>\n",
       "      <td>...</td>\n",
       "      <td>...</td>\n",
       "      <td>...</td>\n",
       "    </tr>\n",
       "    <tr>\n",
       "      <th>3335</th>\n",
       "      <td>9261</td>\n",
       "      <td>4</td>\n",
       "      <td>20</td>\n",
       "      <td>8</td>\n",
       "      <td>400</td>\n",
       "      <td>158.1390</td>\n",
       "      <td>0.013829</td>\n",
       "      <td>0.000504</td>\n",
       "      <td>7</td>\n",
       "      <td>0.000217</td>\n",
       "      <td>0.000313</td>\n",
       "      <td>0.003583</td>\n",
       "      <td>36.3990</td>\n",
       "      <td>66.2718</td>\n",
       "      <td>4.5097</td>\n",
       "      <td>30</td>\n",
       "      <td>0.001035</td>\n",
       "      <td>7</td>\n",
       "      <td>0.0</td>\n",
       "      <td>0.000287</td>\n",
       "    </tr>\n",
       "    <tr>\n",
       "      <th>3336</th>\n",
       "      <td>9264</td>\n",
       "      <td>5</td>\n",
       "      <td>16</td>\n",
       "      <td>56</td>\n",
       "      <td>1500</td>\n",
       "      <td>186.1320</td>\n",
       "      <td>0.006951</td>\n",
       "      <td>0.000360</td>\n",
       "      <td>6</td>\n",
       "      <td>0.000083</td>\n",
       "      <td>0.000166</td>\n",
       "      <td>0.005414</td>\n",
       "      <td>22.8615</td>\n",
       "      <td>34.7417</td>\n",
       "      <td>4.9309</td>\n",
       "      <td>38</td>\n",
       "      <td>0.001343</td>\n",
       "      <td>7</td>\n",
       "      <td>0.0</td>\n",
       "      <td>0.000388</td>\n",
       "    </tr>\n",
       "    <tr>\n",
       "      <th>3337</th>\n",
       "      <td>9265</td>\n",
       "      <td>4</td>\n",
       "      <td>21</td>\n",
       "      <td>8</td>\n",
       "      <td>100</td>\n",
       "      <td>121.6992</td>\n",
       "      <td>0.002956</td>\n",
       "      <td>0.000241</td>\n",
       "      <td>8</td>\n",
       "      <td>0.000055</td>\n",
       "      <td>0.000208</td>\n",
       "      <td>0.003690</td>\n",
       "      <td>35.5833</td>\n",
       "      <td>57.9585</td>\n",
       "      <td>5.4154</td>\n",
       "      <td>23</td>\n",
       "      <td>0.002014</td>\n",
       "      <td>7</td>\n",
       "      <td>0.0</td>\n",
       "      <td>0.000000</td>\n",
       "    </tr>\n",
       "    <tr>\n",
       "      <th>3338</th>\n",
       "      <td>9270</td>\n",
       "      <td>3</td>\n",
       "      <td>20</td>\n",
       "      <td>28</td>\n",
       "      <td>400</td>\n",
       "      <td>134.2848</td>\n",
       "      <td>0.005424</td>\n",
       "      <td>0.000182</td>\n",
       "      <td>5</td>\n",
       "      <td>0.000000</td>\n",
       "      <td>0.000480</td>\n",
       "      <td>0.003205</td>\n",
       "      <td>18.2927</td>\n",
       "      <td>62.4615</td>\n",
       "      <td>6.0202</td>\n",
       "      <td>18</td>\n",
       "      <td>0.000934</td>\n",
       "      <td>5</td>\n",
       "      <td>0.0</td>\n",
       "      <td>0.000000</td>\n",
       "    </tr>\n",
       "    <tr>\n",
       "      <th>3339</th>\n",
       "      <td>9271</td>\n",
       "      <td>4</td>\n",
       "      <td>22</td>\n",
       "      <td>6</td>\n",
       "      <td>400</td>\n",
       "      <td>88.8246</td>\n",
       "      <td>0.000844</td>\n",
       "      <td>0.000108</td>\n",
       "      <td>2</td>\n",
       "      <td>0.000000</td>\n",
       "      <td>0.000341</td>\n",
       "      <td>0.003099</td>\n",
       "      <td>45.1512</td>\n",
       "      <td>63.4435</td>\n",
       "      <td>5.1913</td>\n",
       "      <td>20</td>\n",
       "      <td>0.000476</td>\n",
       "      <td>8</td>\n",
       "      <td>0.0</td>\n",
       "      <td>0.000054</td>\n",
       "    </tr>\n",
       "  </tbody>\n",
       "</table>\n",
       "<p>3338 rows × 20 columns</p>\n",
       "</div>"
      ],
      "text/plain": [
       "      GameID  LeagueIndex  Age  HoursPerWeek  TotalHours       APM  \\\n",
       "0         52            5   27            10        3000  143.7180   \n",
       "1         55            5   23            10        5000  129.2322   \n",
       "2         56            4   30            10         200   69.9612   \n",
       "3         57            3   19            20         400  107.6016   \n",
       "4         58            3   32            10         500  122.8908   \n",
       "...      ...          ...  ...           ...         ...       ...   \n",
       "3335    9261            4   20             8         400  158.1390   \n",
       "3336    9264            5   16            56        1500  186.1320   \n",
       "3337    9265            4   21             8         100  121.6992   \n",
       "3338    9270            3   20            28         400  134.2848   \n",
       "3339    9271            4   22             6         400   88.8246   \n",
       "\n",
       "      SelectByHotkeys  AssignToHotkeys  UniqueHotkeys  MinimapAttacks  \\\n",
       "0            0.003515         0.000220              7        0.000110   \n",
       "1            0.003304         0.000259              4        0.000294   \n",
       "2            0.001101         0.000336              4        0.000294   \n",
       "3            0.001034         0.000213              1        0.000053   \n",
       "4            0.001136         0.000327              2        0.000000   \n",
       "...               ...              ...            ...             ...   \n",
       "3335         0.013829         0.000504              7        0.000217   \n",
       "3336         0.006951         0.000360              6        0.000083   \n",
       "3337         0.002956         0.000241              8        0.000055   \n",
       "3338         0.005424         0.000182              5        0.000000   \n",
       "3339         0.000844         0.000108              2        0.000000   \n",
       "\n",
       "      MinimapRightClicks  NumberOfPACs  GapBetweenPACs  ActionLatency  \\\n",
       "0               0.000392      0.004849         32.6677        40.8673   \n",
       "1               0.000432      0.004307         32.9194        42.3454   \n",
       "2               0.000461      0.002926         44.6475        75.3548   \n",
       "3               0.000543      0.003783         29.2203        53.7352   \n",
       "4               0.001329      0.002368         22.6885        62.0813   \n",
       "...                  ...           ...             ...            ...   \n",
       "3335            0.000313      0.003583         36.3990        66.2718   \n",
       "3336            0.000166      0.005414         22.8615        34.7417   \n",
       "3337            0.000208      0.003690         35.5833        57.9585   \n",
       "3338            0.000480      0.003205         18.2927        62.4615   \n",
       "3339            0.000341      0.003099         45.1512        63.4435   \n",
       "\n",
       "      ActionsInPAC  TotalMapExplored  WorkersMade  UniqueUnitsMade  \\\n",
       "0           4.7508                28     0.001397                6   \n",
       "1           4.8434                22     0.001193                5   \n",
       "2           4.0430                22     0.000745                6   \n",
       "3           4.9155                19     0.000426                7   \n",
       "4           9.3740                15     0.001174                4   \n",
       "...            ...               ...          ...              ...   \n",
       "3335        4.5097                30     0.001035                7   \n",
       "3336        4.9309                38     0.001343                7   \n",
       "3337        5.4154                23     0.002014                7   \n",
       "3338        6.0202                18     0.000934                5   \n",
       "3339        5.1913                20     0.000476                8   \n",
       "\n",
       "      ComplexUnitsMade  ComplexAbilitiesUsed  \n",
       "0                  0.0              0.000000  \n",
       "1                  0.0              0.000208  \n",
       "2                  0.0              0.000189  \n",
       "3                  0.0              0.000384  \n",
       "4                  0.0              0.000019  \n",
       "...                ...                   ...  \n",
       "3335               0.0              0.000287  \n",
       "3336               0.0              0.000388  \n",
       "3337               0.0              0.000000  \n",
       "3338               0.0              0.000000  \n",
       "3339               0.0              0.000054  \n",
       "\n",
       "[3338 rows x 20 columns]"
      ]
     },
     "execution_count": 4,
     "metadata": {},
     "output_type": "execute_result"
    }
   ],
   "source": [
    "df_without_question_mark = df[df != '?'].dropna()\n",
    "string_cols = ['TotalHours', 'HoursPerWeek', 'Age']\n",
    "for s in string_cols:\n",
    "    df_without_question_mark[s] = df_without_question_mark[s].astype(int)\n",
    "df_without_question_mark"
   ]
  },
  {
   "cell_type": "markdown",
   "id": "5ee56383",
   "metadata": {},
   "source": [
    "# Exploring Correlations"
   ]
  },
  {
   "cell_type": "code",
   "execution_count": 5,
   "id": "1cdc7d25",
   "metadata": {},
   "outputs": [],
   "source": [
    "corr = df_without_question_mark.corr()"
   ]
  },
  {
   "cell_type": "code",
   "execution_count": 6,
   "id": "cfb829fa",
   "metadata": {},
   "outputs": [
    {
     "data": {
      "text/plain": [
       "Index(['GameID', 'LeagueIndex', 'Age', 'HoursPerWeek', 'TotalHours', 'APM',\n",
       "       'SelectByHotkeys', 'AssignToHotkeys', 'UniqueHotkeys', 'MinimapAttacks',\n",
       "       'MinimapRightClicks', 'NumberOfPACs', 'GapBetweenPACs', 'ActionLatency',\n",
       "       'ActionsInPAC', 'TotalMapExplored', 'WorkersMade', 'UniqueUnitsMade',\n",
       "       'ComplexUnitsMade', 'ComplexAbilitiesUsed'],\n",
       "      dtype='object')"
      ]
     },
     "execution_count": 6,
     "metadata": {},
     "output_type": "execute_result"
    }
   ],
   "source": [
    "corr.columns"
   ]
  },
  {
   "cell_type": "code",
   "execution_count": 7,
   "id": "d9dfa767",
   "metadata": {},
   "outputs": [],
   "source": [
    "league_index_corr = corr['LeagueIndex']"
   ]
  },
  {
   "cell_type": "code",
   "execution_count": 8,
   "id": "29c45b9f",
   "metadata": {},
   "outputs": [
    {
     "data": {
      "text/plain": [
       "GameID                  0.024974\n",
       "LeagueIndex             1.000000\n",
       "Age                    -0.127518\n",
       "HoursPerWeek            0.217930\n",
       "TotalHours              0.023884\n",
       "APM                     0.624171\n",
       "SelectByHotkeys         0.428637\n",
       "AssignToHotkeys         0.487280\n",
       "UniqueHotkeys           0.322415\n",
       "MinimapAttacks          0.270526\n",
       "MinimapRightClicks      0.206380\n",
       "NumberOfPACs            0.589193\n",
       "GapBetweenPACs         -0.537536\n",
       "ActionLatency          -0.659940\n",
       "ActionsInPAC            0.140303\n",
       "TotalMapExplored        0.230347\n",
       "WorkersMade             0.310452\n",
       "UniqueUnitsMade         0.151933\n",
       "ComplexUnitsMade        0.171190\n",
       "ComplexAbilitiesUsed    0.156033\n",
       "Name: LeagueIndex, dtype: float64"
      ]
     },
     "execution_count": 8,
     "metadata": {},
     "output_type": "execute_result"
    }
   ],
   "source": [
    "league_index_corr"
   ]
  },
  {
   "cell_type": "code",
   "execution_count": 9,
   "id": "2990e19b",
   "metadata": {},
   "outputs": [],
   "source": [
    "indices = np.where(abs(league_index_corr) > 0.5)"
   ]
  },
  {
   "cell_type": "code",
   "execution_count": 10,
   "id": "8e42507f",
   "metadata": {},
   "outputs": [
    {
     "data": {
      "text/plain": [
       "(array([ 1,  5, 11, 12, 13]),)"
      ]
     },
     "execution_count": 10,
     "metadata": {},
     "output_type": "execute_result"
    }
   ],
   "source": [
    "indices"
   ]
  },
  {
   "cell_type": "code",
   "execution_count": 11,
   "id": "5d23532a",
   "metadata": {},
   "outputs": [
    {
     "data": {
      "text/plain": [
       "Index(['LeagueIndex', 'APM', 'NumberOfPACs', 'GapBetweenPACs',\n",
       "       'ActionLatency'],\n",
       "      dtype='object')"
      ]
     },
     "execution_count": 11,
     "metadata": {},
     "output_type": "execute_result"
    }
   ],
   "source": [
    "corr.columns[indices]"
   ]
  },
  {
   "cell_type": "markdown",
   "id": "56c0a350",
   "metadata": {},
   "source": [
    "From the **above** it appears that the categories with a relatively significant correlation to LeagueIndex (>0.5), which is our 1-8 code for rank, are **APM, NumberOfPACs, GapBetweenPACs, and ActionLatency**\n",
    "\n",
    "So, it makes sense to continue by creating a classification model trained on this data. It is possible that adding in other features would only make our model worse because they are so uncorrelated with our output variable and could cause overfitting. \n",
    "\n",
    "These variables make intuitive sense because APM, ActionLatency, NumberOfPACs, and GapBetweenPACs all correlate to how fast a player is and it makes sense that quicker players would have a higher rank because they have better reactions and more practice, developing their faster movement. \n",
    "\n",
    "For further confirmation, I will also use scikit-learn's `SelectKBest` to see if selecting the 5 best features aligns with what we have above. I will use the f_classif because it is suitale for numerical classification."
   ]
  },
  {
   "cell_type": "code",
   "execution_count": 12,
   "id": "2d86e2d2",
   "metadata": {},
   "outputs": [
    {
     "name": "stdout",
     "output_type": "stream",
     "text": [
      "['GameID', 'Age', 'HoursPerWeek', 'TotalHours', 'APM', 'SelectByHotkeys', 'AssignToHotkeys', 'UniqueHotkeys', 'MinimapAttacks', 'MinimapRightClicks', 'NumberOfPACs', 'GapBetweenPACs', 'ActionLatency', 'ActionsInPAC', 'TotalMapExplored', 'WorkersMade', 'UniqueUnitsMade', 'ComplexUnitsMade', 'ComplexAbilitiesUsed']\n"
     ]
    }
   ],
   "source": [
    "features = list(df.columns)\n",
    "features.pop(1)\n",
    "print(features)"
   ]
  },
  {
   "cell_type": "code",
   "execution_count": 13,
   "id": "8f8116a8",
   "metadata": {},
   "outputs": [
    {
     "name": "stdout",
     "output_type": "stream",
     "text": [
      "Index(['TotalHours', 'SelectByHotkeys', 'MinimapRightClicks', 'NumberOfPACs',\n",
      "       'GapBetweenPACs'],\n",
      "      dtype='object')\n"
     ]
    }
   ],
   "source": [
    "from sklearn.feature_selection import SelectKBest, f_classif\n",
    "X = df_without_question_mark[features]\n",
    "y = df_without_question_mark['LeagueIndex']\n",
    "kbest = SelectKBest(score_func=f_classif, k=5)\n",
    "kbest.fit(X, y)\n",
    "selected_features = kbest.get_support(indices=True)\n",
    "print(df.columns[selected_features])"
   ]
  },
  {
   "cell_type": "markdown",
   "id": "2688342e",
   "metadata": {},
   "source": [
    "Performing this check we see that **TotalHours**, which was not included in the correlation matrix, is a good predictor for LeagueIndex, so this is an additional feature worth exploring. Scikit-Learn also suggests **MinimapRightClicks** is a good predictor, which makes sense because a more skilled player will check the minimap more often. Also, **SelectByHotkeys** measures some efficiency of game play, so also makes sense to correlate with skill"
   ]
  },
  {
   "cell_type": "markdown",
   "id": "c1a2bcd1",
   "metadata": {},
   "source": [
    "# Visualizing Variables of Interest"
   ]
  },
  {
   "cell_type": "code",
   "execution_count": 14,
   "id": "b0e3d0ea",
   "metadata": {},
   "outputs": [],
   "source": [
    "import matplotlib.pyplot as plt"
   ]
  },
  {
   "cell_type": "code",
   "execution_count": 15,
   "id": "5e49f19e",
   "metadata": {
    "scrolled": false
   },
   "outputs": [
    {
     "data": {
      "image/png": "[encoded data removed]",
      "text/plain": [
       "<Figure size 432x288 with 1 Axes>"
      ]
     },
     "metadata": {
      "needs_background": "light"
     },
     "output_type": "display_data"
    },
    {
     "data": {
      "image/png": "[encoded data removed]",
      "text/plain": [
       "<Figure size 432x288 with 1 Axes>"
      ]
     },
     "metadata": {
      "needs_background": "light"
     },
     "output_type": "display_data"
    },
    {
     "data": {
      "image/png": "[encoded data removed]",
      "text/plain": [
       "<Figure size 432x288 with 1 Axes>"
      ]
     },
     "metadata": {
      "needs_background": "light"
     },
     "output_type": "display_data"
    },
    {
     "data": {
      "image/png": "[encoded data removed]",
      "text/plain": [
       "<Figure size 432x288 with 1 Axes>"
      ]
     },
     "metadata": {
      "needs_background": "light"
     },
     "output_type": "display_data"
    },
    {
     "data": {
      "image/png": "[encoded data removed]",
      "text/plain": [
       "<Figure size 432x288 with 1 Axes>"
      ]
     },
     "metadata": {
      "needs_background": "light"
     },
     "output_type": "display_data"
    },
    {
     "data": {
      "image/png": "[encoded data removed]",
      "text/plain": [
       "<Figure size 432x288 with 1 Axes>"
      ]
     },
     "metadata": {
      "needs_background": "light"
     },
     "output_type": "display_data"
    },
    {
     "data": {
      "image/png": "[encoded data removed]",
      "text/plain": [
       "<Figure size 432x288 with 1 Axes>"
      ]
     },
     "metadata": {
      "needs_background": "light"
     },
     "output_type": "display_data"
    }
   ],
   "source": [
    "var = ['APM', 'NumberOfPACs', 'GapBetweenPACs',\n",
    "       'ActionLatency', 'TotalHours', 'SelectByHotkeys', 'MinimapRightClicks']\n",
    "for v in var:\n",
    "    data_list = []\n",
    "    for i in range(1,8):\n",
    "        data = df_without_question_mark[df_without_question_mark['LeagueIndex'] == i][v]\n",
    "        data_list.append(data)\n",
    "    plt.violinplot(data_list, showmedians=True)\n",
    "    plt.xlabel('LeagueIndex')\n",
    "    plt.ylabel(v)\n",
    "    plt.title(f'Distribution of {v}')\n",
    "    plt.xticks(range(1, 9), range(1, 9))\n",
    "    plt.grid(True)\n",
    "    plt.show()"
   ]
  },
  {
   "cell_type": "markdown",
   "id": "00b65e90",
   "metadata": {},
   "source": [
    "Looking at this we see an outlier in **TotalHours** that makes it hard to visualize so I'll remove that to see if there is a clear relation with our target variable"
   ]
  },
  {
   "cell_type": "code",
   "execution_count": 16,
   "id": "9b36d03d",
   "metadata": {},
   "outputs": [
    {
     "data": {
      "image/png": "[encoded data removed]",
      "text/plain": [
       "<Figure size 432x288 with 1 Axes>"
      ]
     },
     "metadata": {
      "needs_background": "light"
     },
     "output_type": "display_data"
    }
   ],
   "source": [
    "data_list = []\n",
    "for i in range(1,8):\n",
    "    data = df_without_question_mark[(df_without_question_mark['LeagueIndex'] == i) & (df_without_question_mark['TotalHours'] < 10**6)]['TotalHours']\n",
    "    data_list.append(data)\n",
    "plt.violinplot(data_list, showmedians=True)\n",
    "plt.xlabel('LeagueIndex')\n",
    "plt.ylabel('Total Hours')\n",
    "plt.title(f'Distribution of Total Hours')\n",
    "plt.xticks(range(1, 9), range(1, 9))  # Set x-axis tick labels to match LeagueIndex values\n",
    "plt.grid(True)\n",
    "plt.show()"
   ]
  },
  {
   "cell_type": "markdown",
   "id": "a2f8b5e0",
   "metadata": {},
   "source": [
    "Now some relation does appear to be pressent when you follow the medians, so I will train the model on the classification model on these features with that row removed."
   ]
  },
  {
   "cell_type": "markdown",
   "id": "24c88404",
   "metadata": {},
   "source": [
    "# Train/Test Split For Classification Model"
   ]
  },
  {
   "cell_type": "code",
   "execution_count": 17,
   "id": "afefa7bf",
   "metadata": {},
   "outputs": [],
   "source": [
    "data = df_without_question_mark[df_without_question_mark['TotalHours'] < 10**6]"
   ]
  },
  {
   "cell_type": "code",
   "execution_count": 18,
   "id": "b7eecd71",
   "metadata": {},
   "outputs": [],
   "source": [
    "from sklearn.model_selection import train_test_split\n",
    "X = data[['APM', 'NumberOfPACs', 'GapBetweenPACs',\n",
    "       'ActionLatency', 'TotalHours', 'SelectByHotkeys', 'MinimapRightClicks']]\n",
    "y = data['LeagueIndex']\n",
    "X_train, X_test, y_train, y_test = train_test_split(X, y, test_size=0.2, random_state=42)"
   ]
  },
  {
   "cell_type": "code",
   "execution_count": 19,
   "id": "1de4fd58",
   "metadata": {},
   "outputs": [
    {
     "name": "stdout",
     "output_type": "stream",
     "text": [
      "X_train shape: (2669, 7)\n",
      "X_test shape: (668, 7)\n",
      "y_train shape: (2669,)\n",
      "y_test shape: (668,)\n"
     ]
    }
   ],
   "source": [
    "print(\"X_train shape:\", X_train.shape)\n",
    "print(\"X_test shape:\", X_test.shape)\n",
    "print(\"y_train shape:\", y_train.shape)\n",
    "print(\"y_test shape:\", y_test.shape)"
   ]
  },
  {
   "cell_type": "markdown",
   "id": "83c63bfb",
   "metadata": {},
   "source": [
    "Based on the nature of the classification task (distinct integer categories) I will first try using a Decision Tree classifier. This is because it has good interpretability and may fit the data will, but it is possible to overfit, so I will also try a Random Forest, and see if that gives better performance on the test data. If overfitting does not appear to be a problem, the Decision Tree is preferable because of its interpretability. Otherwise, the Random Forest will be the solution to overfitting."
   ]
  },
  {
   "cell_type": "code",
   "execution_count": 20,
   "id": "8402fa55",
   "metadata": {},
   "outputs": [
    {
     "name": "stdout",
     "output_type": "stream",
     "text": [
      "RMSE for DT: 1.3262662010049655\n"
     ]
    }
   ],
   "source": [
    "from sklearn.tree import DecisionTreeClassifier\n",
    "from sklearn.metrics import mean_squared_error\n",
    "model = DecisionTreeClassifier()\n",
    "model.fit(X_train, y_train)\n",
    "y_pred = model.predict(X_test)\n",
    "mse = mean_squared_error(y_test, y_pred)\n",
    "rmse = np.sqrt(mse)\n",
    "print(\"RMSE for DT:\", rmse)"
   ]
  },
  {
   "cell_type": "code",
   "execution_count": 21,
   "id": "812e5c63",
   "metadata": {},
   "outputs": [
    {
     "name": "stdout",
     "output_type": "stream",
     "text": [
      "RMSE for RF: 1.1045632078969139\n"
     ]
    }
   ],
   "source": [
    "from sklearn.ensemble import RandomForestClassifier\n",
    "model = RandomForestClassifier()\n",
    "model.fit(X_train, y_train)\n",
    "y_pred = model.predict(X_test)\n",
    "mse = mean_squared_error(y_test, y_pred)\n",
    "rmse = np.sqrt(mse)\n",
    "print(\"RMSE for RF:\", rmse)"
   ]
  },
  {
   "cell_type": "markdown",
   "id": "546e3bdc",
   "metadata": {},
   "source": [
    "It appears that the Random Forest gives better perfomance than the Decision Tree. However, because both are not great, and average being off by a bit more than 1 whole rank, I will try some other models. "
   ]
  },
  {
   "cell_type": "code",
   "execution_count": 23,
   "id": "b5c6a9b3",
   "metadata": {},
   "outputs": [
    {
     "name": "stdout",
     "output_type": "stream",
     "text": [
      "RMSE for Logistic Regression: 1.102528395224109\n"
     ]
    }
   ],
   "source": [
    "from sklearn.linear_model import LogisticRegression\n",
    "model = LogisticRegression(max_iter = 10000)\n",
    "model.fit(X_train, y_train)\n",
    "y_pred = model.predict(X_test)\n",
    "mse = mean_squared_error(y_test, y_pred)\n",
    "rmse = np.sqrt(mse)\n",
    "print(\"RMSE for Logistic Regression:\", rmse)"
   ]
  },
  {
   "cell_type": "code",
   "execution_count": 24,
   "id": "ffbb47be",
   "metadata": {},
   "outputs": [
    {
     "name": "stdout",
     "output_type": "stream",
     "text": [
      "RMSE for SVC: 1.2118427597058525\n"
     ]
    }
   ],
   "source": [
    "from sklearn.svm import SVC\n",
    "model = SVC()\n",
    "model.fit(X_train, y_train)\n",
    "y_pred = model.predict(X_test)\n",
    "mse = mean_squared_error(y_test, y_pred)\n",
    "rmse = np.sqrt(mse)\n",
    "print(\"RMSE for SVC:\", rmse)"
   ]
  },
  {
   "cell_type": "code",
   "execution_count": 25,
   "id": "f6f53436",
   "metadata": {},
   "outputs": [
    {
     "name": "stdout",
     "output_type": "stream",
     "text": [
      "RMSE for Gradient Boosting Classifier: 1.1119923318565574\n"
     ]
    }
   ],
   "source": [
    "from sklearn.ensemble import GradientBoostingClassifier\n",
    "model = GradientBoostingClassifier()\n",
    "model.fit(X_train, y_train)\n",
    "y_pred = model.predict(X_test)\n",
    "mse = mean_squared_error(y_test, y_pred)\n",
    "rmse = np.sqrt(mse)\n",
    "print(\"RMSE for Gradient Boosting Classifier:\", rmse)"
   ]
  },
  {
   "cell_type": "markdown",
   "id": "109f7809",
   "metadata": {},
   "source": [
    "### To get a better sense of the different classification models I will test on multiple train-test splits and plot the RMSE's"
   ]
  },
  {
   "cell_type": "code",
   "execution_count": 26,
   "id": "8d2748c2",
   "metadata": {},
   "outputs": [],
   "source": [
    "group_labels = ['Decision Tree', 'Random Forest', 'Logistic Regression', 'SVC', 'Gradient Boosting']\n",
    "\n",
    "dt_rmse = []\n",
    "for i in range(20):\n",
    "    X_train, X_test, y_train, y_test = train_test_split(X, y, test_size=0.2, random_state=42)\n",
    "    model = DecisionTreeClassifier()\n",
    "    model.fit(X_train, y_train)\n",
    "    y_pred = model.predict(X_test)\n",
    "    mse = mean_squared_error(y_test, y_pred)\n",
    "    rmse = np.sqrt(mse)\n",
    "    dt_rmse.append(rmse)\n",
    "    \n",
    "rf_rmse = []\n",
    "for i in range(20):\n",
    "    X_train, X_test, y_train, y_test = train_test_split(X, y, test_size=0.2, random_state=42)\n",
    "    model = RandomForestClassifier()\n",
    "    model.fit(X_train, y_train)\n",
    "    y_pred = model.predict(X_test)\n",
    "    mse = mean_squared_error(y_test, y_pred)\n",
    "    rmse = np.sqrt(mse)\n",
    "    rf_rmse.append(rmse)\n",
    "    \n",
    "lr_rmse = []\n",
    "for i in range(20):\n",
    "    X_train, X_test, y_train, y_test = train_test_split(X, y, test_size=0.2, random_state=42)\n",
    "    model = LogisticRegression(max_iter = 10000)\n",
    "    model.fit(X_train, y_train)\n",
    "    y_pred = model.predict(X_test)\n",
    "    mse = mean_squared_error(y_test, y_pred)\n",
    "    rmse = np.sqrt(mse)\n",
    "    lr_rmse.append(rmse)\n",
    "\n",
    "svc_rmse = []\n",
    "for i in range(20):\n",
    "    X_train, X_test, y_train, y_test = train_test_split(X, y, test_size=0.2, random_state=42)\n",
    "    model = SVC()\n",
    "    model.fit(X_train, y_train)\n",
    "    y_pred = model.predict(X_test)\n",
    "    mse = mean_squared_error(y_test, y_pred)\n",
    "    rmse = np.sqrt(mse)\n",
    "    svc_rmse.append(rmse)\n",
    "\n",
    "gb_rmse = []\n",
    "for i in range(20):\n",
    "    X_train, X_test, y_train, y_test = train_test_split(X, y, test_size=0.2, random_state=42)\n",
    "    model = GradientBoostingClassifier()\n",
    "    model.fit(X_train, y_train)\n",
    "    y_pred = model.predict(X_test)\n",
    "    mse = mean_squared_error(y_test, y_pred)\n",
    "    rmse = np.sqrt(mse)\n",
    "    gb_rmse.append(rmse)"
   ]
  },
  {
   "cell_type": "code",
   "execution_count": 27,
   "id": "c2507eec",
   "metadata": {},
   "outputs": [
    {
     "data": {
      "text/plain": [
       "Text(0.5, 1.0, 'RMSE Comparison for Different Models')"
      ]
     },
     "execution_count": 27,
     "metadata": {},
     "output_type": "execute_result"
    },
    {
     "data": {
      "image/png": "[encoded data removed]",
      "text/plain": [
       "<Figure size 1000x600 with 1 Axes>"
      ]
     },
     "metadata": {},
     "output_type": "display_data"
    }
   ],
   "source": [
    "import seaborn as sns\n",
    "import matplotlib.pyplot as plt\n",
    "rmse_values = [dt_rmse, rf_rmse, lr_rmse, svc_rmse, gb_rmse]\n",
    "sns.set(style=\"whitegrid\")\n",
    "fig, ax = plt.subplots(figsize=(10, 6), dpi=100)\n",
    "ax = sns.violinplot(data=rmse_values)\n",
    "ax.set_xticklabels(group_labels)\n",
    "ax.set_ylabel(\"RMSE Values\")\n",
    "ax.set_title(\"RMSE Comparison for Different Models\")"
   ]
  },
  {
   "cell_type": "markdown",
   "id": "a4238c21",
   "metadata": {},
   "source": [
    "# Conclusion\n",
    "It appears that the best model in terms of performance is the logistic regression. Although the performance is similar for many of the classification models, notably Logistic Regression performs the best and a Random Forest performs better than the Decision Tree classifier on the test set, so overfitting appears to not be an issue. \n",
    "\n",
    "I would recommend the use of the logistic regression model, specified below because it has the lowest RMSE, and it also has very good interpretability, because it is easy to understand the logistic regression function and what the probability outputs mean. "
   ]
  },
  {
   "cell_type": "code",
   "execution_count": 30,
   "id": "166c2722",
   "metadata": {},
   "outputs": [
    {
     "name": "stdout",
     "output_type": "stream",
     "text": [
      "Coefficients: [[-4.29913883e-02 -1.05585879e-03  3.16134003e-02  4.87196878e-02\n",
      "  -2.91981942e-03 -1.28044809e-03 -6.66410500e-05]\n",
      " [-2.22673761e-02 -1.40441711e-03  2.41994190e-02  4.09717165e-02\n",
      "  -1.70619303e-03 -1.47218343e-03  2.53727011e-05]\n",
      " [-7.46383150e-03 -1.47389053e-03  1.10171536e-02  3.59762384e-02\n",
      "  -2.21119575e-04 -1.50877978e-04 -4.11117423e-05]\n",
      " [ 3.98836158e-03 -1.58173447e-03  1.56216107e-02  1.23861703e-02\n",
      "   5.70873036e-04 -1.49598958e-05  1.00494948e-04]\n",
      " [ 1.57376439e-02 -2.04053181e-04 -1.84364241e-03 -7.37079994e-03\n",
      "   1.26416692e-03  2.65290354e-03  4.78924268e-06]\n",
      " [ 2.41976807e-02  4.93847602e-03 -1.18064439e-02 -4.25426819e-02\n",
      "   1.40715492e-03  1.01405980e-03 -4.21922613e-05]\n",
      " [ 2.87989097e-02  7.81478069e-04 -6.88014974e-02 -8.81403312e-02\n",
      "   1.60493714e-03 -7.48493946e-04  1.92881613e-05]]\n",
      "Intercept: [-0.10987328 -0.01899436 -0.32046441 -0.04163747 -0.02119247  0.47432829\n",
      "  0.03783371]\n"
     ]
    }
   ],
   "source": [
    "model = LogisticRegression(max_iter = 10000)\n",
    "model.fit(X_train, y_train)\n",
    "coefficients = model.coef_\n",
    "intercept = model.intercept_\n",
    "print(\"Coefficients:\", coefficients)\n",
    "print(\"Intercept:\", intercept)"
   ]
  },
  {
   "cell_type": "markdown",
   "id": "4b6adad6",
   "metadata": {},
   "source": [
    "## For non-technical stake holders\n",
    "By exploring the data, I found that several factors would be useful predictors of LeagueIndex i.e. rank. These factors were: **APM**, **NumberOfPACs**, **GapBetweenPACs**,\n",
    "       **ActionLatency**, **TotalHours**, **SelectByHotkeys**, **MinimapRightClicks**. Most of these factors make sense because they relate to the speed of the player, and faster players probably have higher ranks, while others are good indicators of how much information a player is gathering or how much experience they have, which are both good ways to learn about the score. I chose to focus on this subset of factors to avoid over-fitting, which is where our model is trained so closely on training data, it struggles in the future to make accurate predictions. I ended up with a model that is both straight forward, as we can see its mathematical definition below, and in testing had a root mean squared error of only slightly greater than 1, which means we are on average roughly around 1 rank off, so it is a fairly good predictor. It also has no variability, which is better than the models with similar performance, as seen above.\n",
    "\n",
    "Thus, the logistic regression model above is a suitable predictor of LeagueIndex. "
   ]
  }
 ],
 "metadata": {
  "kernelspec": {
   "display_name": "data",
   "language": "python",
   "name": "data"
  },
  "language_info": {
   "codemirror_mode": {
    "name": "ipython",
    "version": 3
   },
   "file_extension": ".py",
   "mimetype": "text/x-python",
   "name": "python",
   "nbconvert_exporter": "python",
   "pygments_lexer": "ipython3",
   "version": "3.9.13"
  }
 },
 "nbformat": 4,
 "nbformat_minor": 5
}
